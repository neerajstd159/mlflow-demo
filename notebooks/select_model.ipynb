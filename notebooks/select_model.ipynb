{
 "cells": [
  {
   "cell_type": "code",
   "execution_count": 1,
   "metadata": {},
   "outputs": [],
   "source": [
    "import numpy as np\n",
    "import pandas as pd\n",
    "import mlflow\n",
    "import dagshub"
   ]
  },
  {
   "cell_type": "code",
   "execution_count": 2,
   "metadata": {},
   "outputs": [
    {
     "data": {
      "text/html": [
       "<div>\n",
       "<style scoped>\n",
       "    .dataframe tbody tr th:only-of-type {\n",
       "        vertical-align: middle;\n",
       "    }\n",
       "\n",
       "    .dataframe tbody tr th {\n",
       "        vertical-align: top;\n",
       "    }\n",
       "\n",
       "    .dataframe thead th {\n",
       "        text-align: right;\n",
       "    }\n",
       "</style>\n",
       "<table border=\"1\" class=\"dataframe\">\n",
       "  <thead>\n",
       "    <tr style=\"text-align: right;\">\n",
       "      <th></th>\n",
       "      <th>sentiment</th>\n",
       "      <th>content</th>\n",
       "    </tr>\n",
       "  </thead>\n",
       "  <tbody>\n",
       "    <tr>\n",
       "      <th>0</th>\n",
       "      <td>empty</td>\n",
       "      <td>@tiffanylue i know  i was listenin to bad habi...</td>\n",
       "    </tr>\n",
       "    <tr>\n",
       "      <th>1</th>\n",
       "      <td>sadness</td>\n",
       "      <td>Layin n bed with a headache  ughhhh...waitin o...</td>\n",
       "    </tr>\n",
       "    <tr>\n",
       "      <th>2</th>\n",
       "      <td>sadness</td>\n",
       "      <td>Funeral ceremony...gloomy friday...</td>\n",
       "    </tr>\n",
       "    <tr>\n",
       "      <th>3</th>\n",
       "      <td>enthusiasm</td>\n",
       "      <td>wants to hang out with friends SOON!</td>\n",
       "    </tr>\n",
       "    <tr>\n",
       "      <th>4</th>\n",
       "      <td>neutral</td>\n",
       "      <td>@dannycastillo We want to trade with someone w...</td>\n",
       "    </tr>\n",
       "  </tbody>\n",
       "</table>\n",
       "</div>"
      ],
      "text/plain": [
       "    sentiment                                            content\n",
       "0       empty  @tiffanylue i know  i was listenin to bad habi...\n",
       "1     sadness  Layin n bed with a headache  ughhhh...waitin o...\n",
       "2     sadness                Funeral ceremony...gloomy friday...\n",
       "3  enthusiasm               wants to hang out with friends SOON!\n",
       "4     neutral  @dannycastillo We want to trade with someone w..."
      ]
     },
     "execution_count": 2,
     "metadata": {},
     "output_type": "execute_result"
    }
   ],
   "source": [
    "df = pd.read_csv('https://raw.githubusercontent.com/campusx-official/jupyter-masterclass/main/tweet_emotions.csv').drop(columns=['tweet_id'])\n",
    "df.head()"
   ]
  },
  {
   "cell_type": "code",
   "execution_count": 3,
   "metadata": {},
   "outputs": [],
   "source": [
    "import re\n",
    "\n",
    "def lower_case(text):\n",
    "    text = [word.lower() for word in text.split()]\n",
    "    return \" \".join(text)\n",
    "\n",
    "\n",
    "def replace_pattern(pattern, text):\n",
    "    text = re.sub(pattern, ' ', text)\n",
    "    return text\n",
    "\n",
    "\n",
    "def replace_pattern_with_pattern(pattern1, pattern2, text):\n",
    "    text = re.sub(pattern1, pattern2, text)\n",
    "    return text"
   ]
  },
  {
   "cell_type": "code",
   "execution_count": 4,
   "metadata": {},
   "outputs": [],
   "source": [
    "df['content'] = df['content'].apply(lambda x: lower_case(x))\n",
    "url_pattern = r'https?://[^\\s]*|www\\.[^\\s]*'\n",
    "user_pattern = r'@[^\\s]*'\n",
    "df['content'] = df['content'].apply(lambda x: replace_pattern(url_pattern, x))\n",
    "df['content'] = df['content'].apply(lambda x: replace_pattern(user_pattern, x))\n",
    "non_alphanumeric_pattern = r'[^a-zA-Z0-9]'\n",
    "df['content'] = df['content'].apply(lambda x: replace_pattern(non_alphanumeric_pattern, x))\n",
    "search_pattern = r'(.)\\1{2,}'\n",
    "replace_with = r'\\1\\1'\n",
    "df['content'] = df['content'].apply(lambda x: replace_pattern_with_pattern(search_pattern, replace_with, x))"
   ]
  },
  {
   "cell_type": "code",
   "execution_count": 5,
   "metadata": {},
   "outputs": [
    {
     "data": {
      "text/html": [
       "<div>\n",
       "<style scoped>\n",
       "    .dataframe tbody tr th:only-of-type {\n",
       "        vertical-align: middle;\n",
       "    }\n",
       "\n",
       "    .dataframe tbody tr th {\n",
       "        vertical-align: top;\n",
       "    }\n",
       "\n",
       "    .dataframe thead th {\n",
       "        text-align: right;\n",
       "    }\n",
       "</style>\n",
       "<table border=\"1\" class=\"dataframe\">\n",
       "  <thead>\n",
       "    <tr style=\"text-align: right;\">\n",
       "      <th></th>\n",
       "      <th>sentiment</th>\n",
       "      <th>content</th>\n",
       "    </tr>\n",
       "  </thead>\n",
       "  <tbody>\n",
       "    <tr>\n",
       "      <th>13643</th>\n",
       "      <td>love</td>\n",
       "      <td>stressed i want prom to be perfect for me  amp...</td>\n",
       "    </tr>\n",
       "    <tr>\n",
       "      <th>12048</th>\n",
       "      <td>fun</td>\n",
       "      <td>now it s weekend  it s so great  i saw the res...</td>\n",
       "    </tr>\n",
       "    <tr>\n",
       "      <th>1776</th>\n",
       "      <td>surprise</td>\n",
       "      <td>nightshift i m still working luckily having ...</td>\n",
       "    </tr>\n",
       "    <tr>\n",
       "      <th>14266</th>\n",
       "      <td>hate</td>\n",
       "      <td>what really  that sucks</td>\n",
       "    </tr>\n",
       "    <tr>\n",
       "      <th>4392</th>\n",
       "      <td>sadness</td>\n",
       "      <td>i have to wok a nite shift tonite so will mi...</td>\n",
       "    </tr>\n",
       "    <tr>\n",
       "      <th>27341</th>\n",
       "      <td>happiness</td>\n",
       "      <td>time for school i m feelin good  5 am jogs do ...</td>\n",
       "    </tr>\n",
       "    <tr>\n",
       "      <th>2426</th>\n",
       "      <td>surprise</td>\n",
       "      <td>grr  we are only allowed gas grills where i ...</td>\n",
       "    </tr>\n",
       "    <tr>\n",
       "      <th>27715</th>\n",
       "      <td>happiness</td>\n",
       "      <td>were you at the parade yesterday at powderho...</td>\n",
       "    </tr>\n",
       "    <tr>\n",
       "      <th>17821</th>\n",
       "      <td>worry</td>\n",
       "      <td>going through security already miss my baby</td>\n",
       "    </tr>\n",
       "    <tr>\n",
       "      <th>13729</th>\n",
       "      <td>neutral</td>\n",
       "      <td>the office craving ice cream</td>\n",
       "    </tr>\n",
       "  </tbody>\n",
       "</table>\n",
       "</div>"
      ],
      "text/plain": [
       "       sentiment                                            content\n",
       "13643       love  stressed i want prom to be perfect for me  amp...\n",
       "12048        fun  now it s weekend  it s so great  i saw the res...\n",
       "1776    surprise    nightshift i m still working luckily having ...\n",
       "14266       hate                          what really  that sucks  \n",
       "4392     sadness    i have to wok a nite shift tonite so will mi...\n",
       "27341  happiness  time for school i m feelin good  5 am jogs do ...\n",
       "2426    surprise    grr  we are only allowed gas grills where i ...\n",
       "27715  happiness    were you at the parade yesterday at powderho...\n",
       "17821      worry       going through security already miss my baby \n",
       "13729    neutral                       the office craving ice cream"
      ]
     },
     "execution_count": 5,
     "metadata": {},
     "output_type": "execute_result"
    }
   ],
   "source": [
    "df.sample(10)"
   ]
  },
  {
   "cell_type": "code",
   "execution_count": 6,
   "metadata": {},
   "outputs": [],
   "source": [
    "df = df[df['sentiment'].isin(['happiness', 'sadness', 'love'])]"
   ]
  },
  {
   "cell_type": "code",
   "execution_count": 7,
   "metadata": {},
   "outputs": [
    {
     "data": {
      "text/html": [
       "<div>\n",
       "<style scoped>\n",
       "    .dataframe tbody tr th:only-of-type {\n",
       "        vertical-align: middle;\n",
       "    }\n",
       "\n",
       "    .dataframe tbody tr th {\n",
       "        vertical-align: top;\n",
       "    }\n",
       "\n",
       "    .dataframe thead th {\n",
       "        text-align: right;\n",
       "    }\n",
       "</style>\n",
       "<table border=\"1\" class=\"dataframe\">\n",
       "  <thead>\n",
       "    <tr style=\"text-align: right;\">\n",
       "      <th></th>\n",
       "      <th>sentiment</th>\n",
       "      <th>content</th>\n",
       "    </tr>\n",
       "  </thead>\n",
       "  <tbody>\n",
       "    <tr>\n",
       "      <th>15991</th>\n",
       "      <td>sadness</td>\n",
       "      <td>poor greg stupid uk  always doing the sympathy...</td>\n",
       "    </tr>\n",
       "    <tr>\n",
       "      <th>3139</th>\n",
       "      <td>sadness</td>\n",
       "      <td>english screwed up my overall percentage in ...</td>\n",
       "    </tr>\n",
       "    <tr>\n",
       "      <th>25196</th>\n",
       "      <td>happiness</td>\n",
       "      <td>hey everybody  hah this day is cool  just got ...</td>\n",
       "    </tr>\n",
       "    <tr>\n",
       "      <th>29455</th>\n",
       "      <td>sadness</td>\n",
       "      <td>wondering what misery looks like  look at the ...</td>\n",
       "    </tr>\n",
       "    <tr>\n",
       "      <th>6281</th>\n",
       "      <td>happiness</td>\n",
       "      <td>i don t feel like having to reboot if only o...</td>\n",
       "    </tr>\n",
       "    <tr>\n",
       "      <th>33242</th>\n",
       "      <td>happiness</td>\n",
       "      <td>hey chelsee its amiera  lt ufc gt</td>\n",
       "    </tr>\n",
       "    <tr>\n",
       "      <th>9638</th>\n",
       "      <td>happiness</td>\n",
       "      <td>she is good  so gor juz yea i kno i asked he...</td>\n",
       "    </tr>\n",
       "    <tr>\n",
       "      <th>36007</th>\n",
       "      <td>happiness</td>\n",
       "      <td>i will go to sleep now  might be awakened ea...</td>\n",
       "    </tr>\n",
       "    <tr>\n",
       "      <th>28013</th>\n",
       "      <td>sadness</td>\n",
       "      <td>idk why im so hyper im jumping everyhere  ugh ...</td>\n",
       "    </tr>\n",
       "    <tr>\n",
       "      <th>31962</th>\n",
       "      <td>love</td>\n",
       "      <td>aw honey  you just relaxin  that s probably ...</td>\n",
       "    </tr>\n",
       "  </tbody>\n",
       "</table>\n",
       "</div>"
      ],
      "text/plain": [
       "       sentiment                                            content\n",
       "15991    sadness  poor greg stupid uk  always doing the sympathy...\n",
       "3139     sadness    english screwed up my overall percentage in ...\n",
       "25196  happiness  hey everybody  hah this day is cool  just got ...\n",
       "29455    sadness  wondering what misery looks like  look at the ...\n",
       "6281   happiness    i don t feel like having to reboot if only o...\n",
       "33242  happiness                 hey chelsee its amiera  lt ufc gt \n",
       "9638   happiness    she is good  so gor juz yea i kno i asked he...\n",
       "36007  happiness    i will go to sleep now  might be awakened ea...\n",
       "28013    sadness  idk why im so hyper im jumping everyhere  ugh ...\n",
       "31962       love    aw honey  you just relaxin  that s probably ..."
      ]
     },
     "execution_count": 7,
     "metadata": {},
     "output_type": "execute_result"
    }
   ],
   "source": [
    "df.sample(10)"
   ]
  },
  {
   "cell_type": "code",
   "execution_count": 8,
   "metadata": {},
   "outputs": [],
   "source": [
    "df['sentiment'] = df['sentiment'].map({'happiness':0, 'love':0, 'sadness':1})"
   ]
  },
  {
   "cell_type": "code",
   "execution_count": 9,
   "metadata": {},
   "outputs": [
    {
     "data": {
      "text/html": [
       "<div>\n",
       "<style scoped>\n",
       "    .dataframe tbody tr th:only-of-type {\n",
       "        vertical-align: middle;\n",
       "    }\n",
       "\n",
       "    .dataframe tbody tr th {\n",
       "        vertical-align: top;\n",
       "    }\n",
       "\n",
       "    .dataframe thead th {\n",
       "        text-align: right;\n",
       "    }\n",
       "</style>\n",
       "<table border=\"1\" class=\"dataframe\">\n",
       "  <thead>\n",
       "    <tr style=\"text-align: right;\">\n",
       "      <th></th>\n",
       "      <th>sentiment</th>\n",
       "      <th>content</th>\n",
       "    </tr>\n",
       "  </thead>\n",
       "  <tbody>\n",
       "    <tr>\n",
       "      <th>26489</th>\n",
       "      <td>0</td>\n",
       "      <td>good day all  let s see what we can get accomp...</td>\n",
       "    </tr>\n",
       "    <tr>\n",
       "      <th>4228</th>\n",
       "      <td>1</td>\n",
       "      <td>well that s no way to start the day off</td>\n",
       "    </tr>\n",
       "    <tr>\n",
       "      <th>3724</th>\n",
       "      <td>1</td>\n",
       "      <td>i am afraid you ve had a bit of a  fail as t...</td>\n",
       "    </tr>\n",
       "    <tr>\n",
       "      <th>2158</th>\n",
       "      <td>1</td>\n",
       "      <td>has had awful hiccups today and now can t fall...</td>\n",
       "    </tr>\n",
       "    <tr>\n",
       "      <th>26875</th>\n",
       "      <td>0</td>\n",
       "      <td>man i love your shelves  way to go diy diva</td>\n",
       "    </tr>\n",
       "    <tr>\n",
       "      <th>12257</th>\n",
       "      <td>0</td>\n",
       "      <td>nice hair and nowhere to go</td>\n",
       "    </tr>\n",
       "    <tr>\n",
       "      <th>1851</th>\n",
       "      <td>1</td>\n",
       "      <td>still sick  home</td>\n",
       "    </tr>\n",
       "    <tr>\n",
       "      <th>23167</th>\n",
       "      <td>0</td>\n",
       "      <td>ideas gallore  rock opera ftw  yes tweets kayl...</td>\n",
       "    </tr>\n",
       "    <tr>\n",
       "      <th>33791</th>\n",
       "      <td>0</td>\n",
       "      <td>good night all  15 miles of trails with 7 peek...</td>\n",
       "    </tr>\n",
       "    <tr>\n",
       "      <th>18283</th>\n",
       "      <td>0</td>\n",
       "      <td>maan if i wasnt in pain i d come  i wanna co...</td>\n",
       "    </tr>\n",
       "  </tbody>\n",
       "</table>\n",
       "</div>"
      ],
      "text/plain": [
       "       sentiment                                            content\n",
       "26489          0  good day all  let s see what we can get accomp...\n",
       "4228           1          well that s no way to start the day off  \n",
       "3724           1    i am afraid you ve had a bit of a  fail as t...\n",
       "2158           1  has had awful hiccups today and now can t fall...\n",
       "26875          0       man i love your shelves  way to go diy diva \n",
       "12257          0                        nice hair and nowhere to go\n",
       "1851           1                                 still sick  home  \n",
       "23167          0  ideas gallore  rock opera ftw  yes tweets kayl...\n",
       "33791          0  good night all  15 miles of trails with 7 peek...\n",
       "18283          0    maan if i wasnt in pain i d come  i wanna co..."
      ]
     },
     "execution_count": 9,
     "metadata": {},
     "output_type": "execute_result"
    }
   ],
   "source": [
    "df.sample(10)"
   ]
  },
  {
   "cell_type": "code",
   "execution_count": 10,
   "metadata": {},
   "outputs": [],
   "source": [
    "# remove stopwords\n",
    "import nltk\n",
    "from nltk.corpus import stopwords\n",
    "stopword = set(stopwords.words('english'))\n",
    "\n",
    "def remove_stopwords(text):\n",
    "    new_text = [word for word in text.split() if word not in stopword]\n",
    "    return \" \".join(new_text)\n",
    "\n",
    "df['content'] = df['content'].apply(lambda x: remove_stopwords(x))"
   ]
  },
  {
   "cell_type": "code",
   "execution_count": 11,
   "metadata": {},
   "outputs": [],
   "source": [
    "import nltk\n",
    "from nltk.stem import WordNetLemmatizer\n",
    "lemmatizer = WordNetLemmatizer()\n",
    "\n",
    "# apply lemmatization\n",
    "def apply_lemmatization(text):\n",
    "    new_text = [lemmatizer.lemmatize(word) for word in text.split()]\n",
    "    return \" \".join(new_text)"
   ]
  },
  {
   "cell_type": "code",
   "execution_count": 12,
   "metadata": {},
   "outputs": [],
   "source": [
    "df['content'] = df['content'].apply(lambda x: apply_lemmatization(x))"
   ]
  },
  {
   "cell_type": "code",
   "execution_count": 13,
   "metadata": {},
   "outputs": [
    {
     "data": {
      "text/html": [
       "<div>\n",
       "<style scoped>\n",
       "    .dataframe tbody tr th:only-of-type {\n",
       "        vertical-align: middle;\n",
       "    }\n",
       "\n",
       "    .dataframe tbody tr th {\n",
       "        vertical-align: top;\n",
       "    }\n",
       "\n",
       "    .dataframe thead th {\n",
       "        text-align: right;\n",
       "    }\n",
       "</style>\n",
       "<table border=\"1\" class=\"dataframe\">\n",
       "  <thead>\n",
       "    <tr style=\"text-align: right;\">\n",
       "      <th></th>\n",
       "      <th>sentiment</th>\n",
       "      <th>content</th>\n",
       "    </tr>\n",
       "  </thead>\n",
       "  <tbody>\n",
       "    <tr>\n",
       "      <th>1</th>\n",
       "      <td>1</td>\n",
       "      <td>layin n bed headache ughh waitin call</td>\n",
       "    </tr>\n",
       "    <tr>\n",
       "      <th>2</th>\n",
       "      <td>1</td>\n",
       "      <td>funeral ceremony gloomy friday</td>\n",
       "    </tr>\n",
       "    <tr>\n",
       "      <th>6</th>\n",
       "      <td>1</td>\n",
       "      <td>sleep im thinking old friend want married damn...</td>\n",
       "    </tr>\n",
       "    <tr>\n",
       "      <th>8</th>\n",
       "      <td>1</td>\n",
       "      <td>charlene love miss</td>\n",
       "    </tr>\n",
       "    <tr>\n",
       "      <th>9</th>\n",
       "      <td>1</td>\n",
       "      <td>sorry least friday</td>\n",
       "    </tr>\n",
       "  </tbody>\n",
       "</table>\n",
       "</div>"
      ],
      "text/plain": [
       "   sentiment                                            content\n",
       "1          1              layin n bed headache ughh waitin call\n",
       "2          1                     funeral ceremony gloomy friday\n",
       "6          1  sleep im thinking old friend want married damn...\n",
       "8          1                                 charlene love miss\n",
       "9          1                                 sorry least friday"
      ]
     },
     "execution_count": 13,
     "metadata": {},
     "output_type": "execute_result"
    }
   ],
   "source": [
    "df.head()"
   ]
  },
  {
   "cell_type": "code",
   "execution_count": 14,
   "metadata": {},
   "outputs": [
    {
     "data": {
      "text/html": [
       "<pre style=\"white-space:pre;overflow-x:auto;line-height:normal;font-family:Menlo,'DejaVu Sans Mono',consolas,'Courier New',monospace\">Accessing as neerajstd159\n",
       "</pre>\n"
      ],
      "text/plain": [
       "Accessing as neerajstd159\n"
      ]
     },
     "metadata": {},
     "output_type": "display_data"
    },
    {
     "data": {
      "text/html": [
       "<pre style=\"white-space:pre;overflow-x:auto;line-height:normal;font-family:Menlo,'DejaVu Sans Mono',consolas,'Courier New',monospace\">Initialized MLflow to track repo <span style=\"color: #008000; text-decoration-color: #008000\">\"neerajstd159/mlflow-demo\"</span>\n",
       "</pre>\n"
      ],
      "text/plain": [
       "Initialized MLflow to track repo \u001b[32m\"neerajstd159/mlflow-demo\"\u001b[0m\n"
      ]
     },
     "metadata": {},
     "output_type": "display_data"
    },
    {
     "data": {
      "text/html": [
       "<pre style=\"white-space:pre;overflow-x:auto;line-height:normal;font-family:Menlo,'DejaVu Sans Mono',consolas,'Courier New',monospace\">Repository neerajstd159/mlflow-demo initialized!\n",
       "</pre>\n"
      ],
      "text/plain": [
       "Repository neerajstd159/mlflow-demo initialized!\n"
      ]
     },
     "metadata": {},
     "output_type": "display_data"
    },
    {
     "data": {
      "text/plain": [
       "<Experiment: artifact_location='mlflow-artifacts:/8479dc744197449c931a9e7ccde110f4', creation_time=1734866948303, experiment_id='2', last_update_time=1734866948303, lifecycle_stage='active', name='model selection', tags={}>"
      ]
     },
     "execution_count": 14,
     "metadata": {},
     "output_type": "execute_result"
    }
   ],
   "source": [
    "mlflow.set_tracking_uri('https://dagshub.com/neerajstd159/mlflow-demo.mlflow')\n",
    "dagshub.init(repo_owner=\"neerajstd159\", repo_name=\"mlflow-demo\", mlflow=True)\n",
    "mlflow.set_experiment(\"model selection\")"
   ]
  },
  {
   "cell_type": "code",
   "execution_count": 15,
   "metadata": {},
   "outputs": [],
   "source": [
    "from sklearn.feature_extraction.text import CountVectorizer, TfidfVectorizer\n",
    "from sklearn.linear_model import LogisticRegression\n",
    "from sklearn.tree import DecisionTreeClassifier\n",
    "from sklearn.ensemble import RandomForestClassifier, GradientBoostingClassifier\n",
    "from sklearn.naive_bayes import BernoulliNB, MultinomialNB\n",
    "from xgboost import XGBClassifier\n",
    "\n",
    "vectorizer = {\n",
    "    \"BoW\": CountVectorizer(),\n",
    "    \"tfidf\": TfidfVectorizer()\n",
    "}\n",
    "\n",
    "algos = {\n",
    "    \"LogisticRegression\" : LogisticRegression(),\n",
    "    \"DecisionTreeClassifier\" : DecisionTreeClassifier(),\n",
    "    \"RandomForestClassifier\" : RandomForestClassifier(),\n",
    "    \"BernoulliNB\" : BernoulliNB(),\n",
    "    \"MultinomialNB\" : MultinomialNB(),\n",
    "    \"XGBClassifier\" : XGBClassifier(),\n",
    "    'GradientBoostingClassifier': GradientBoostingClassifier()\n",
    "}"
   ]
  },
  {
   "cell_type": "code",
   "execution_count": 16,
   "metadata": {},
   "outputs": [],
   "source": [
    "from sklearn.model_selection import train_test_split\n",
    "from sklearn.metrics import accuracy_score, recall_score, f1_score, precision_score\n",
    "import os"
   ]
  },
  {
   "cell_type": "code",
   "execution_count": 17,
   "metadata": {},
   "outputs": [
    {
     "name": "stderr",
     "output_type": "stream",
     "text": [
      "2024/12/23 18:54:44 WARNING mlflow.models.model: Model logged without a signature and input example. Please set `input_example` parameter when logging the model to auto infer the model signature.\n"
     ]
    },
    {
     "name": "stdout",
     "output_type": "stream",
     "text": [
      "Algorithm: LogisticRegression, Feature Engineering: BoW\n",
      "Accuracy: 0.79957805907173\n",
      "Precision: 0.6584440227703985\n",
      "Recall: 0.7676991150442478\n",
      "F1 Score: 0.7088866189989785\n",
      "🏃 View run LogisticRegression with BoW at: https://dagshub.com/neerajstd159/mlflow-demo.mlflow/#/experiments/2/runs/23a07fbb5d7945018b61723d8db90f68\n",
      "🧪 View experiment at: https://dagshub.com/neerajstd159/mlflow-demo.mlflow/#/experiments/2\n"
     ]
    },
    {
     "name": "stderr",
     "output_type": "stream",
     "text": [
      "2024/12/23 18:54:58 WARNING mlflow.models.model: Model logged without a signature and input example. Please set `input_example` parameter when logging the model to auto infer the model signature.\n"
     ]
    },
    {
     "name": "stdout",
     "output_type": "stream",
     "text": [
      "Algorithm: LogisticRegression, Feature Engineering: tfidf\n",
      "Accuracy: 0.7992264416315049\n",
      "Precision: 0.609360076408787\n",
      "Recall: 0.7975\n",
      "F1 Score: 0.6908500270709258\n",
      "🏃 View run LogisticRegression with tfidf at: https://dagshub.com/neerajstd159/mlflow-demo.mlflow/#/experiments/2/runs/97a0b9a361f542ac9ebf719b8682dfeb\n",
      "🧪 View experiment at: https://dagshub.com/neerajstd159/mlflow-demo.mlflow/#/experiments/2\n"
     ]
    },
    {
     "name": "stderr",
     "output_type": "stream",
     "text": [
      "2024/12/23 18:55:17 WARNING mlflow.models.model: Model logged without a signature and input example. Please set `input_example` parameter when logging the model to auto infer the model signature.\n"
     ]
    },
    {
     "name": "stdout",
     "output_type": "stream",
     "text": [
      "Algorithm: DecisionTreeClassifier, Feature Engineering: BoW\n",
      "Accuracy: 0.7721518987341772\n",
      "Precision: 0.6751717369970559\n",
      "Recall: 0.6845771144278607\n",
      "F1 Score: 0.6798418972332015\n",
      "🏃 View run DecisionTreeClassifier with BoW at: https://dagshub.com/neerajstd159/mlflow-demo.mlflow/#/experiments/2/runs/bc8624d0be2240ebb87306a0356c0d79\n",
      "🧪 View experiment at: https://dagshub.com/neerajstd159/mlflow-demo.mlflow/#/experiments/2\n"
     ]
    },
    {
     "name": "stderr",
     "output_type": "stream",
     "text": [
      "2024/12/23 18:55:37 WARNING mlflow.models.model: Model logged without a signature and input example. Please set `input_example` parameter when logging the model to auto infer the model signature.\n"
     ]
    },
    {
     "name": "stdout",
     "output_type": "stream",
     "text": [
      "Algorithm: DecisionTreeClassifier, Feature Engineering: tfidf\n",
      "Accuracy: 0.7644163150492265\n",
      "Precision: 0.6707193515704154\n",
      "Recall: 0.6573982125124131\n",
      "F1 Score: 0.6639919759277834\n",
      "🏃 View run DecisionTreeClassifier with tfidf at: https://dagshub.com/neerajstd159/mlflow-demo.mlflow/#/experiments/2/runs/568f430285ac44f2b75222662b64f4e6\n",
      "🧪 View experiment at: https://dagshub.com/neerajstd159/mlflow-demo.mlflow/#/experiments/2\n"
     ]
    },
    {
     "name": "stderr",
     "output_type": "stream",
     "text": [
      "2024/12/23 18:56:07 WARNING mlflow.models.model: Model logged without a signature and input example. Please set `input_example` parameter when logging the model to auto infer the model signature.\n"
     ]
    },
    {
     "name": "stdout",
     "output_type": "stream",
     "text": [
      "Algorithm: RandomForestClassifier, Feature Engineering: BoW\n",
      "Accuracy: 0.8090717299578059\n",
      "Precision: 0.6993464052287581\n",
      "Recall: 0.7721649484536083\n",
      "F1 Score: 0.7339539441450269\n",
      "🏃 View run RandomForestClassifier with BoW at: https://dagshub.com/neerajstd159/mlflow-demo.mlflow/#/experiments/2/runs/de8b6cbcbf7d4752b7b2bbedc2ffcc0d\n",
      "🧪 View experiment at: https://dagshub.com/neerajstd159/mlflow-demo.mlflow/#/experiments/2\n"
     ]
    },
    {
     "name": "stderr",
     "output_type": "stream",
     "text": [
      "2024/12/23 18:56:51 WARNING mlflow.models.model: Model logged without a signature and input example. Please set `input_example` parameter when logging the model to auto infer the model signature.\n"
     ]
    },
    {
     "name": "stdout",
     "output_type": "stream",
     "text": [
      "Algorithm: RandomForestClassifier, Feature Engineering: tfidf\n",
      "Accuracy: 0.8034458509142054\n",
      "Precision: 0.6571709233791748\n",
      "Recall: 0.7610921501706485\n",
      "F1 Score: 0.7053241960991038\n",
      "🏃 View run RandomForestClassifier with tfidf at: https://dagshub.com/neerajstd159/mlflow-demo.mlflow/#/experiments/2/runs/60ed9bf97aec4c5fa33b8a6c16b6b632\n",
      "🧪 View experiment at: https://dagshub.com/neerajstd159/mlflow-demo.mlflow/#/experiments/2\n"
     ]
    },
    {
     "name": "stderr",
     "output_type": "stream",
     "text": [
      "2024/12/23 18:57:33 WARNING mlflow.models.model: Model logged without a signature and input example. Please set `input_example` parameter when logging the model to auto infer the model signature.\n"
     ]
    },
    {
     "name": "stdout",
     "output_type": "stream",
     "text": [
      "Algorithm: BernoulliNB, Feature Engineering: BoW\n",
      "Accuracy: 0.7834036568213784\n",
      "Precision: 0.562058526740666\n",
      "Recall: 0.7537212449255751\n",
      "F1 Score: 0.6439306358381502\n",
      "🏃 View run BernoulliNB with BoW at: https://dagshub.com/neerajstd159/mlflow-demo.mlflow/#/experiments/2/runs/0b889cbd3e72465aaacecf1b3aa597d4\n",
      "🧪 View experiment at: https://dagshub.com/neerajstd159/mlflow-demo.mlflow/#/experiments/2\n"
     ]
    },
    {
     "name": "stderr",
     "output_type": "stream",
     "text": [
      "2024/12/23 18:57:50 WARNING mlflow.models.model: Model logged without a signature and input example. Please set `input_example` parameter when logging the model to auto infer the model signature.\n"
     ]
    },
    {
     "name": "stdout",
     "output_type": "stream",
     "text": [
      "Algorithm: BernoulliNB, Feature Engineering: tfidf\n",
      "Accuracy: 0.780239099859353\n",
      "Precision: 0.5537583254043768\n",
      "Recall: 0.7886178861788617\n",
      "F1 Score: 0.650642817216322\n",
      "🏃 View run BernoulliNB with tfidf at: https://dagshub.com/neerajstd159/mlflow-demo.mlflow/#/experiments/2/runs/867187638fd3471c81a9926ec0a6829a\n",
      "🧪 View experiment at: https://dagshub.com/neerajstd159/mlflow-demo.mlflow/#/experiments/2\n"
     ]
    },
    {
     "name": "stderr",
     "output_type": "stream",
     "text": [
      "2024/12/23 18:58:09 WARNING mlflow.models.model: Model logged without a signature and input example. Please set `input_example` parameter when logging the model to auto infer the model signature.\n"
     ]
    },
    {
     "name": "stdout",
     "output_type": "stream",
     "text": [
      "Algorithm: MultinomialNB, Feature Engineering: BoW\n",
      "Accuracy: 0.8055555555555556\n",
      "Precision: 0.6463878326996197\n",
      "Recall: 0.7897793263646922\n",
      "F1 Score: 0.7109252483010977\n",
      "🏃 View run MultinomialNB with BoW at: https://dagshub.com/neerajstd159/mlflow-demo.mlflow/#/experiments/2/runs/353a0fff71f34d2596fa68bcb16e03fe\n",
      "🧪 View experiment at: https://dagshub.com/neerajstd159/mlflow-demo.mlflow/#/experiments/2\n"
     ]
    },
    {
     "name": "stderr",
     "output_type": "stream",
     "text": [
      "2024/12/23 18:58:28 WARNING mlflow.models.model: Model logged without a signature and input example. Please set `input_example` parameter when logging the model to auto infer the model signature.\n"
     ]
    },
    {
     "name": "stdout",
     "output_type": "stream",
     "text": [
      "Algorithm: MultinomialNB, Feature Engineering: tfidf\n",
      "Accuracy: 0.7725035161744023\n",
      "Precision: 0.4323529411764706\n",
      "Recall: 0.8664047151277013\n",
      "F1 Score: 0.5768476128188358\n",
      "🏃 View run MultinomialNB with tfidf at: https://dagshub.com/neerajstd159/mlflow-demo.mlflow/#/experiments/2/runs/00abeef009fe4aa8a759764f21468406\n",
      "🧪 View experiment at: https://dagshub.com/neerajstd159/mlflow-demo.mlflow/#/experiments/2\n"
     ]
    },
    {
     "name": "stderr",
     "output_type": "stream",
     "text": [
      "2024/12/23 18:58:47 WARNING mlflow.models.model: Model logged without a signature and input example. Please set `input_example` parameter when logging the model to auto infer the model signature.\n"
     ]
    },
    {
     "name": "stdout",
     "output_type": "stream",
     "text": [
      "Algorithm: XGBClassifier, Feature Engineering: BoW\n",
      "Accuracy: 0.8118846694796061\n",
      "Precision: 0.608739837398374\n",
      "Recall: 0.7997329773030708\n",
      "F1 Score: 0.6912867859203693\n",
      "🏃 View run XGBClassifier with BoW at: https://dagshub.com/neerajstd159/mlflow-demo.mlflow/#/experiments/2/runs/ecf93ab1257242e092c452c1a8baf976\n",
      "🧪 View experiment at: https://dagshub.com/neerajstd159/mlflow-demo.mlflow/#/experiments/2\n"
     ]
    },
    {
     "name": "stderr",
     "output_type": "stream",
     "text": [
      "2024/12/23 18:59:08 WARNING mlflow.models.model: Model logged without a signature and input example. Please set `input_example` parameter when logging the model to auto infer the model signature.\n"
     ]
    },
    {
     "name": "stdout",
     "output_type": "stream",
     "text": [
      "Algorithm: XGBClassifier, Feature Engineering: tfidf\n",
      "Accuracy: 0.7872714486638537\n",
      "Precision: 0.5610687022900763\n",
      "Recall: 0.8021828103683493\n",
      "F1 Score: 0.6603032004491859\n",
      "🏃 View run XGBClassifier with tfidf at: https://dagshub.com/neerajstd159/mlflow-demo.mlflow/#/experiments/2/runs/5d0822ce409842568c7c67c9569226ce\n",
      "🧪 View experiment at: https://dagshub.com/neerajstd159/mlflow-demo.mlflow/#/experiments/2\n"
     ]
    },
    {
     "name": "stderr",
     "output_type": "stream",
     "text": [
      "2024/12/23 18:59:28 WARNING mlflow.models.model: Model logged without a signature and input example. Please set `input_example` parameter when logging the model to auto infer the model signature.\n"
     ]
    },
    {
     "name": "stdout",
     "output_type": "stream",
     "text": [
      "Algorithm: GradientBoostingClassifier, Feature Engineering: BoW\n",
      "Accuracy: 0.7482419127988749\n",
      "Precision: 0.36663336663336665\n",
      "Recall: 0.8173719376391982\n",
      "F1 Score: 0.5062068965517241\n",
      "🏃 View run GradientBoostingClassifier with BoW at: https://dagshub.com/neerajstd159/mlflow-demo.mlflow/#/experiments/2/runs/c6623b19b29e44fab8f0055ade50693b\n",
      "🧪 View experiment at: https://dagshub.com/neerajstd159/mlflow-demo.mlflow/#/experiments/2\n"
     ]
    },
    {
     "name": "stderr",
     "output_type": "stream",
     "text": [
      "2024/12/23 18:59:48 WARNING mlflow.models.model: Model logged without a signature and input example. Please set `input_example` parameter when logging the model to auto infer the model signature.\n"
     ]
    },
    {
     "name": "stdout",
     "output_type": "stream",
     "text": [
      "Algorithm: GradientBoostingClassifier, Feature Engineering: tfidf\n",
      "Accuracy: 0.7468354430379747\n",
      "Precision: 0.40754369825206993\n",
      "Recall: 0.8535645472061657\n",
      "F1 Score: 0.5516811955168119\n",
      "🏃 View run GradientBoostingClassifier with tfidf at: https://dagshub.com/neerajstd159/mlflow-demo.mlflow/#/experiments/2/runs/23512c3ecbcc40bcb3af154fd7908ae6\n",
      "🧪 View experiment at: https://dagshub.com/neerajstd159/mlflow-demo.mlflow/#/experiments/2\n",
      "🏃 View run All Experiments at: https://dagshub.com/neerajstd159/mlflow-demo.mlflow/#/experiments/2/runs/050b5b11b29946c28674082399aa769b\n",
      "🧪 View experiment at: https://dagshub.com/neerajstd159/mlflow-demo.mlflow/#/experiments/2\n"
     ]
    }
   ],
   "source": [
    "with mlflow.start_run(run_name=\"All Experiments\") as parent_run:\n",
    "    for key, algo in algos.items():\n",
    "        for vkey, vectr in vectorizer.items():\n",
    "            with mlflow.start_run(run_name=f\"{key} with {vkey}\", nested=True) as child_run:\n",
    "                X_train, X_test, y_train, y_test = train_test_split(df['content'], df['sentiment'], test_size=0.2)\n",
    "\n",
    "                # log params\n",
    "                mlflow.log_param(\"vectorizer\", vkey)\n",
    "                mlflow.log_param(\"algorithm\", key)\n",
    "                mlflow.log_param(\"test_size\", 0.2)\n",
    "                \n",
    "                X_train_trf = vectr.fit_transform(X_train)\n",
    "                X_test_trf = vectr.transform(X_test)\n",
    "\n",
    "                algo.fit(X_train_trf, y_train)\n",
    "                y_pred = algo.predict(X_test_trf)\n",
    "\n",
    "                # log model params\n",
    "                # Log model parameters based on the classifier type\n",
    "                if key == 'LogisticRegression':\n",
    "                    mlflow.log_param(\"C\", algo.C)\n",
    "                elif key == 'DecisionTreeClassifier':\n",
    "                    mlflow.log_param(\"max_depth\", algo.max_depth)\n",
    "                    mlflow.log_param(\"min_samples_split\", algo.min_samples_split)\n",
    "                elif key == 'RandomForestClassifier':\n",
    "                    mlflow.log_param(\"n_estimators\", algo.n_estimators)\n",
    "                    mlflow.log_param(\"max_depth\", algo.max_depth)\n",
    "                elif key == 'BernoulliNB' or key == 'MultinomialNB':\n",
    "                    mlflow.log_param(\"alpha\", algo.alpha)\n",
    "                elif key == 'XGBClassifier':\n",
    "                    mlflow.log_param(\"learning_rate\", algo.learning_rate)\n",
    "                    mlflow.log_param(\"n_estimators\", algo.n_estimators)\n",
    "                elif key == 'GradientBoostingClassifier':\n",
    "                    mlflow.log_param(\"learning_rate\", algo.learning_rate)\n",
    "                    mlflow.log_param(\"n_estimators\", algo.n_estimators)\n",
    "\n",
    "\n",
    "                accuracy = accuracy_score(y_pred, y_test)\n",
    "                precision = precision_score(y_pred, y_test)\n",
    "                f1_scr = f1_score(y_pred, y_test)\n",
    "                recall = recall_score(y_pred, y_test)\n",
    "\n",
    "                mlflow.log_metric(\"accuracy\", accuracy)\n",
    "                mlflow.log_metric(\"precision\", precision)\n",
    "                mlflow.log_metric(\"recall\", recall)\n",
    "                mlflow.log_metric(\"f1_score\", f1_scr)\n",
    "\n",
    "                # log model\n",
    "                mlflow.sklearn.log_model(algo, f\"{key}\")\n",
    "\n",
    "                # save and log file\n",
    "                notebook_path = \"select_model.ipynb\"\n",
    "                os.system(f\"jupyter nbconvert --to notebook --execute --inplace {notebook_path}\")\n",
    "                mlflow.log_artifact(notebook_path)\n",
    "\n",
    "                # Print the results for verification\n",
    "                print(f\"Algorithm: {key}, Feature Engineering: {vkey}\")\n",
    "                print(f\"Accuracy: {accuracy}\")\n",
    "                print(f\"Precision: {precision}\")\n",
    "                print(f\"Recall: {recall}\")\n",
    "                print(f\"F1 Score: {f1_scr}\")"
   ]
  },
  {
   "cell_type": "code",
   "execution_count": null,
   "metadata": {},
   "outputs": [],
   "source": []
  }
 ],
 "metadata": {
  "kernelspec": {
   "display_name": "myenv",
   "language": "python",
   "name": "python3"
  },
  "language_info": {
   "codemirror_mode": {
    "name": "ipython",
    "version": 3
   },
   "file_extension": ".py",
   "mimetype": "text/x-python",
   "name": "python",
   "nbconvert_exporter": "python",
   "pygments_lexer": "ipython3",
   "version": "3.13.0"
  }
 },
 "nbformat": 4,
 "nbformat_minor": 2
}
